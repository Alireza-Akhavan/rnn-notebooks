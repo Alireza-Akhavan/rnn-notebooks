{
 "cells": [
  {
   "cell_type": "markdown",
   "metadata": {},
   "source": [
    "<center><div style=\"direction:rtl;font-family:B Lotus, B Nazanin, Tahoma\">به نام خدا</div></center>\n",
    "<img src=\"./logo.png\" alt=\"class.vision\" style=\"width: 200px;\"/>\n",
    "<h1><center><div style=\"direction:rtl;font-family:B Lotus, B Nazanin, Tahoma\">تغییر در طول بازه‌های زمانی ورودی شبکه</div></center></h1>"
   ]
  },
  {
   "cell_type": "code",
   "execution_count": 1,
   "metadata": {},
   "outputs": [
    {
     "name": "stderr",
     "output_type": "stream",
     "text": [
      "Using TensorFlow backend.\n"
     ]
    }
   ],
   "source": [
    "import pandas as pd\n",
    "import numpy as np\n",
    "from keras.models import Sequential\n",
    "from keras.layers import Dense, SimpleRNN\n",
    "import matplotlib.pyplot as plt\n",
    "%matplotlib inline\n",
    "\n",
    "t = np.arange(0,1500)\n",
    "x = np.sin(0.02*t)+ np.random.rand(1500) * 2\n",
    "\n",
    "train,test = x[0:1000], x[1000:]\n",
    "\n",
    "# convert into dataset data and label\n",
    "def convertToDataset(data, step):\n",
    "    #data = np.append(data,np.repeat(data[-1,],step))\n",
    "    X, Y =[], []\n",
    "    for i in range(len(data)-step):\n",
    "        d=i+step  \n",
    "        X.append(data[i:d,])\n",
    "        Y.append(data[d,])\n",
    "    return np.array(X), np.array(Y)"
   ]
  },
  {
   "cell_type": "code",
   "execution_count": 2,
   "metadata": {},
   "outputs": [],
   "source": [
    "train_step = 10\n",
    "test_step = 20\n",
    "\n",
    "trainX,trainY =convertToDataset(train,train_step)\n",
    "testX,testY =convertToDataset(test,test_step)\n",
    "\n",
    "trainX = np.reshape(trainX, (trainX.shape[0],  trainX.shape[1], 1))\n",
    "testX = np.reshape(testX, (testX.shape[0],testX.shape[1], 1))"
   ]
  },
  {
   "cell_type": "code",
   "execution_count": 3,
   "metadata": {},
   "outputs": [
    {
     "name": "stdout",
     "output_type": "stream",
     "text": [
      "(990, 10, 1)\n",
      "(480, 20, 1)\n"
     ]
    }
   ],
   "source": [
    "print(trainX.shape)\n",
    "print(testX.shape)"
   ]
  },
  {
   "cell_type": "markdown",
   "metadata": {},
   "source": [
    "# <div style=\"direction:rtl;text-align:right;font-family:B Lotus, B Nazanin, Tahoma\">معماری شبکه و compile آن</div>\n"
   ]
  },
  {
   "cell_type": "code",
   "execution_count": 4,
   "metadata": {},
   "outputs": [],
   "source": [
    "model = Sequential()\n",
    "model.add(SimpleRNN(units=64, input_shape=(None, 1),  activation=\"tanh\"))\n",
    "model.add(Dense(1))\n",
    "model.compile(loss='mean_squared_error', optimizer='rmsprop')"
   ]
  },
  {
   "cell_type": "code",
   "execution_count": 5,
   "metadata": {},
   "outputs": [
    {
     "name": "stdout",
     "output_type": "stream",
     "text": [
      "_________________________________________________________________\n",
      "Layer (type)                 Output Shape              Param #   \n",
      "=================================================================\n",
      "simple_rnn_1 (SimpleRNN)     (None, 64)                4224      \n",
      "_________________________________________________________________\n",
      "dense_1 (Dense)              (None, 1)                 65        \n",
      "=================================================================\n",
      "Total params: 4,289\n",
      "Trainable params: 4,289\n",
      "Non-trainable params: 0\n",
      "_________________________________________________________________\n"
     ]
    }
   ],
   "source": [
    "model.summary()"
   ]
  },
  {
   "cell_type": "code",
   "execution_count": 6,
   "metadata": {},
   "outputs": [
    {
     "data": {
      "text/plain": [
       "<tf.Tensor 'simple_rnn_1_input:0' shape=(?, ?, 1) dtype=float32>"
      ]
     },
     "execution_count": 6,
     "metadata": {},
     "output_type": "execute_result"
    }
   ],
   "source": [
    "model.input"
   ]
  },
  {
   "cell_type": "markdown",
   "metadata": {},
   "source": [
    "# <div style=\"direction:rtl;text-align:right;font-family:B Lotus, B Nazanin, Tahoma\">آموزش مدل</div>\n"
   ]
  },
  {
   "cell_type": "markdown",
   "metadata": {},
   "source": [
    "<div style=\"direction:rtl;text-align:right;font-family:Tahoma\">\n",
    "حالا با این پیاده سازی به نظر شما میتوانیم در طول آموزش هم طول timestep متفاوت داشته باشیم؟<br>\n",
    "\n",
    "</div>"
   ]
  },
  {
   "cell_type": "code",
   "execution_count": 7,
   "metadata": {},
   "outputs": [
    {
     "name": "stdout",
     "output_type": "stream",
     "text": [
      "Epoch 1/100\n",
      " - 4s - loss: 0.5067\n",
      "Epoch 2/100\n",
      " - 0s - loss: 0.4110\n",
      "Epoch 3/100\n",
      " - 0s - loss: 0.4095\n",
      "Epoch 4/100\n",
      " - 0s - loss: 0.3995\n",
      "Epoch 5/100\n",
      " - 1s - loss: 0.3934\n",
      "Epoch 6/100\n",
      " - 0s - loss: 0.3865\n",
      "Epoch 7/100\n",
      " - 0s - loss: 0.3920\n",
      "Epoch 8/100\n",
      " - 1s - loss: 0.3851\n",
      "Epoch 9/100\n",
      " - 1s - loss: 0.3858\n",
      "Epoch 10/100\n",
      " - 0s - loss: 0.3869\n",
      "Epoch 11/100\n",
      " - 0s - loss: 0.3804\n",
      "Epoch 12/100\n",
      " - 0s - loss: 0.3806\n",
      "Epoch 13/100\n",
      " - 0s - loss: 0.3736\n",
      "Epoch 14/100\n",
      " - 0s - loss: 0.3740\n",
      "Epoch 15/100\n",
      " - 0s - loss: 0.3662\n",
      "Epoch 16/100\n",
      " - 0s - loss: 0.3708\n",
      "Epoch 17/100\n",
      " - 0s - loss: 0.3668\n",
      "Epoch 18/100\n",
      " - 0s - loss: 0.3632\n",
      "Epoch 19/100\n",
      " - 0s - loss: 0.3697\n",
      "Epoch 20/100\n",
      " - 0s - loss: 0.3612\n",
      "Epoch 21/100\n",
      " - 0s - loss: 0.3619\n",
      "Epoch 22/100\n",
      " - 0s - loss: 0.3577\n",
      "Epoch 23/100\n",
      " - 0s - loss: 0.3577\n",
      "Epoch 24/100\n",
      " - 0s - loss: 0.3534\n",
      "Epoch 25/100\n",
      " - 0s - loss: 0.3537\n",
      "Epoch 26/100\n",
      " - 0s - loss: 0.3556\n",
      "Epoch 27/100\n",
      " - 0s - loss: 0.3499\n",
      "Epoch 28/100\n",
      " - 0s - loss: 0.3484\n",
      "Epoch 29/100\n",
      " - 0s - loss: 0.3455\n",
      "Epoch 30/100\n",
      " - 0s - loss: 0.3415\n",
      "Epoch 31/100\n",
      " - 0s - loss: 0.3393\n",
      "Epoch 32/100\n",
      " - 0s - loss: 0.3332\n",
      "Epoch 33/100\n",
      " - 0s - loss: 0.3361\n",
      "Epoch 34/100\n",
      " - 0s - loss: 0.3387\n",
      "Epoch 35/100\n",
      " - 0s - loss: 0.3236\n",
      "Epoch 36/100\n",
      " - 0s - loss: 0.3313\n",
      "Epoch 37/100\n",
      " - 0s - loss: 0.3276\n",
      "Epoch 38/100\n",
      " - 0s - loss: 0.3225\n",
      "Epoch 39/100\n",
      " - 0s - loss: 0.3239\n",
      "Epoch 40/100\n",
      " - 0s - loss: 0.3161\n",
      "Epoch 41/100\n",
      " - 0s - loss: 0.3075\n",
      "Epoch 42/100\n",
      " - 0s - loss: 0.3118\n",
      "Epoch 43/100\n",
      " - 0s - loss: 0.3085\n",
      "Epoch 44/100\n",
      " - 0s - loss: 0.3020\n",
      "Epoch 45/100\n",
      " - 0s - loss: 0.2969\n",
      "Epoch 46/100\n",
      " - 0s - loss: 0.2989\n",
      "Epoch 47/100\n",
      " - 0s - loss: 0.2919\n",
      "Epoch 48/100\n",
      " - 0s - loss: 0.2893\n",
      "Epoch 49/100\n",
      " - 0s - loss: 0.2869\n",
      "Epoch 50/100\n",
      " - 0s - loss: 0.2843\n",
      "Epoch 51/100\n",
      " - 0s - loss: 0.2818\n",
      "Epoch 52/100\n",
      " - 0s - loss: 0.2788\n",
      "Epoch 53/100\n",
      " - 0s - loss: 0.2698\n",
      "Epoch 54/100\n",
      " - 0s - loss: 0.2686\n",
      "Epoch 55/100\n",
      " - 0s - loss: 0.2606\n",
      "Epoch 56/100\n",
      " - 0s - loss: 0.2595\n",
      "Epoch 57/100\n",
      " - 0s - loss: 0.2569\n",
      "Epoch 58/100\n",
      " - 0s - loss: 0.2531\n",
      "Epoch 59/100\n",
      " - 0s - loss: 0.2535\n",
      "Epoch 60/100\n",
      " - 0s - loss: 0.2413\n",
      "Epoch 61/100\n",
      " - 0s - loss: 0.2381\n",
      "Epoch 62/100\n",
      " - 0s - loss: 0.2340\n",
      "Epoch 63/100\n",
      " - 0s - loss: 0.2337\n",
      "Epoch 64/100\n",
      " - 0s - loss: 0.2308\n",
      "Epoch 65/100\n",
      " - 0s - loss: 0.2165\n",
      "Epoch 66/100\n",
      " - 0s - loss: 0.2228\n",
      "Epoch 67/100\n",
      " - 0s - loss: 0.2148\n",
      "Epoch 68/100\n",
      " - 0s - loss: 0.2090\n",
      "Epoch 69/100\n",
      " - 0s - loss: 0.2065\n",
      "Epoch 70/100\n",
      " - 0s - loss: 0.2043\n",
      "Epoch 71/100\n",
      " - 0s - loss: 0.1964\n",
      "Epoch 72/100\n",
      " - 0s - loss: 0.1957\n",
      "Epoch 73/100\n",
      " - 1s - loss: 0.1896\n",
      "Epoch 74/100\n",
      " - 1s - loss: 0.1830\n",
      "Epoch 75/100\n",
      " - 0s - loss: 0.1827\n",
      "Epoch 76/100\n",
      " - 1s - loss: 0.1808\n",
      "Epoch 77/100\n",
      " - 0s - loss: 0.1748\n",
      "Epoch 78/100\n",
      " - 0s - loss: 0.1662\n",
      "Epoch 79/100\n",
      " - 0s - loss: 0.1674\n",
      "Epoch 80/100\n",
      " - 0s - loss: 0.1636\n",
      "Epoch 81/100\n",
      " - 0s - loss: 0.1580\n",
      "Epoch 82/100\n",
      " - 0s - loss: 0.1580\n",
      "Epoch 83/100\n",
      " - 0s - loss: 0.1476\n",
      "Epoch 84/100\n",
      " - 0s - loss: 0.1502\n",
      "Epoch 85/100\n",
      " - 0s - loss: 0.1431\n",
      "Epoch 86/100\n",
      " - 0s - loss: 0.1377\n",
      "Epoch 87/100\n",
      " - 0s - loss: 0.1369\n",
      "Epoch 88/100\n",
      " - 0s - loss: 0.1321\n",
      "Epoch 89/100\n",
      " - 0s - loss: 0.1286\n",
      "Epoch 90/100\n",
      " - 0s - loss: 0.1256\n",
      "Epoch 91/100\n",
      " - 0s - loss: 0.1229\n",
      "Epoch 92/100\n",
      " - 0s - loss: 0.1206\n",
      "Epoch 93/100\n",
      " - 0s - loss: 0.1167\n",
      "Epoch 94/100\n",
      " - 0s - loss: 0.1145\n",
      "Epoch 95/100\n",
      " - 0s - loss: 0.1071\n",
      "Epoch 96/100\n",
      " - 0s - loss: 0.1078\n",
      "Epoch 97/100\n",
      " - 0s - loss: 0.1038\n",
      "Epoch 98/100\n",
      " - 0s - loss: 0.1023\n",
      "Epoch 99/100\n",
      " - 0s - loss: 0.0970\n",
      "Epoch 100/100\n",
      " - 0s - loss: 0.0994\n"
     ]
    }
   ],
   "source": [
    "history = model.fit(trainX,trainY, epochs=100, batch_size=16, verbose=2)"
   ]
  },
  {
   "cell_type": "markdown",
   "metadata": {},
   "source": [
    "# <div style=\"direction:rtl;text-align:right;font-family:B Lotus, B Nazanin, Tahoma\"> ارزیابی مدل</div>"
   ]
  },
  {
   "cell_type": "code",
   "execution_count": 9,
   "metadata": {},
   "outputs": [
    {
     "name": "stdout",
     "output_type": "stream",
     "text": [
      "0.07633800416281729\n"
     ]
    }
   ],
   "source": [
    "trainScore = model.evaluate(trainX, trainY, verbose=0)\n",
    "print(trainScore)"
   ]
  },
  {
   "cell_type": "markdown",
   "metadata": {},
   "source": [
    "# <div style=\"direction:rtl;text-align:right;font-family:B Lotus, B Nazanin, Tahoma\"> رسم سری اصلی و پیش بینی برای داده های آموزشی و تست </div>\n"
   ]
  },
  {
   "cell_type": "code",
   "execution_count": 10,
   "metadata": {},
   "outputs": [],
   "source": [
    "trainPredict = model.predict(trainX)\n",
    "testPredict= model.predict(testX)\n",
    "predicted=np.concatenate((trainPredict,testPredict),axis=0)"
   ]
  },
  {
   "cell_type": "code",
   "execution_count": 11,
   "metadata": {},
   "outputs": [
    {
     "data": {
      "image/png": "[encoded data removed]",
      "text/plain": [
       "<Figure size 432x288 with 1 Axes>"
      ]
     },
     "metadata": {
      "needs_background": "light"
     },
     "output_type": "display_data"
    }
   ],
   "source": [
    "plt.plot(x)\n",
    "plt.plot(predicted)\n",
    "plt.axvline(len(trainX), c=\"r\")\n",
    "plt.show()"
   ]
  },
  {
   "cell_type": "markdown",
   "metadata": {},
   "source": [
    "<div class=\"alert alert-block alert-info\">\n",
    "<div style=\"direction:rtl;text-align:right;font-family:B Lotus, B Nazanin, Tahoma\"> دوره پیشرفته یادگیری عمیق<br>علیرضا اخوان پور<br>  آبان و آذر 1399<br>\n",
    "</div>\n",
    "<a href=\"http://class.vision\">Class.Vision</a> - <a href=\"http://AkhavanPour.ir\">AkhavanPour.ir</a> - <a href=\"https://github.com/Alireza-Akhavan/\">GitHub</a>\n",
    "\n",
    "</div>"
   ]
  }
 ],
 "metadata": {
  "kernelspec": {
   "display_name": "tensorflow",
   "language": "python",
   "name": "tensorflow"
  },
  "language_info": {
   "codemirror_mode": {
    "name": "ipython",
    "version": 3
   },
   "file_extension": ".py",
   "mimetype": "text/x-python",
   "name": "python",
   "nbconvert_exporter": "python",
   "pygments_lexer": "ipython3",
   "version": "3.6.8"
  }
 },
 "nbformat": 4,
 "nbformat_minor": 2
}
