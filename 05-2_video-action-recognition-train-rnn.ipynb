{
 "cells": [
  {
   "cell_type": "markdown",
   "metadata": {},
   "source": [
    "<center><div style=\"direction:rtl;font-family:B Lotus, B Nazanin, Tahoma\">به نام خدا</div></center>\n",
    "<img src=\"./logo.png\" alt=\"class.vision\" style=\"width: 200px;\"/>\n",
    "<h1><center><div style=\"direction:rtl;font-family:B Lotus, B Nazanin, Tahoma\">طبقه بندی ویدیو با شبکه‌های بازگشتی</div></center></h1>"
   ]
  },
  {
   "cell_type": "markdown",
   "metadata": {},
   "source": [
    "## <div style=\"direction:rtl;text-align:right;font-family:B Lotus, B Nazanin, Tahoma\">لود کتابخانه‌های مورد استفاده</div>"
   ]
  },
  {
   "cell_type": "code",
   "execution_count": 1,
   "metadata": {},
   "outputs": [
    {
     "name": "stdout",
     "output_type": "stream",
     "text": [
      "2.0.0\n",
      "2.2.4-tf\n"
     ]
    },
    {
     "name": "stderr",
     "output_type": "stream",
     "text": [
      "Using TensorFlow backend.\n"
     ]
    }
   ],
   "source": [
    "import tensorflow as tf\n",
    "import tensorflow.keras as keras\n",
    "from keras.layers import Dense, Flatten, Dropout, ZeroPadding3D\n",
    "from keras.layers.recurrent import GRU\n",
    "from keras.models import Sequential, load_model\n",
    "from keras.optimizers import Adam, RMSprop\n",
    "\n",
    "import os\n",
    "import csv\n",
    "import numpy as np\n",
    "\n",
    "print(tf.__version__)\n",
    "print(keras.__version__)"
   ]
  },
  {
   "cell_type": "markdown",
   "metadata": {},
   "source": [
    "## <div style=\"direction:rtl;text-align:right;font-family:B Lotus, B Nazanin, Tahoma\">تعریف متغیرها</div>\n",
    "\n",
    "<div style=\"direction:rtl;text-align:right;font-family:Tahoma\">\n",
    "تعیین کردن مسیر مجموعه داده، تعداد فریم‌ها برای تشخیص یک ویدیو (تعداد step های زمانی)، نهایت تعداد فریمی که انتظار داریم یک ویدیو داشته باشد و با بیشتر از این تعداد فریم کار نمیکنیم</div>"
   ]
  },
  {
   "cell_type": "code",
   "execution_count": 2,
   "metadata": {},
   "outputs": [],
   "source": [
    "base_path = \"D:/dataset/RNN-Video\"\n",
    "seq_length = 40\n",
    "max_frames = 300"
   ]
  },
  {
   "cell_type": "markdown",
   "metadata": {},
   "source": [
    "## <div style=\"direction:rtl;text-align:right;font-family:B Lotus, B Nazanin, Tahoma\">خواندن مجموعه داده</div>\n",
    "\n",
    "<div style=\"direction:rtl;text-align:right;font-family:Tahoma\">\n",
    "قبلا  6 کلاس از دیتاست  UCF-101 را به عنوان نمونه انتخاب و فریم‌های ویدیوهای متعلق به این 6 کلاس از این مجموعه داده را استخراج کرده ایم و اطلاعات هر ویدیو نظیر اسم - کلاس و تعداد فریم را در یک فایل متنی قرار داده ایم.\n",
    "    <br/>\n",
    "    در اینجا آن ویدیوهایی که حداقل 40 فریم و حداکثر 300 فریم دارند را لود می‌کنیم.\n",
    "<br/>\n",
    "    دیتاست اصلی شامل 101 کلاس مختلف را می‌توانید از لینک زیر دانلود کنید:\n",
    "</div>\n",
    "\n",
    "<strong>UCF-101</strong>\n",
    "[https://www.crcv.ucf.edu/data/UCF101.php](https://www.crcv.ucf.edu/data/UCF101.php)\n"
   ]
  },
  {
   "cell_type": "code",
   "execution_count": 3,
   "metadata": {},
   "outputs": [],
   "source": [
    "with open(os.path.join(base_path, 'data_file_5class.csv'), 'r') as fin:\n",
    "    reader = csv.reader(fin)\n",
    "    data = list(reader)\n",
    "    \n",
    "train_path = os.path.join(base_path, 'train')\n",
    "classes =os.listdir(train_path)\n",
    "classes = sorted(classes)\n",
    "\n",
    "data_clean = []\n",
    "for item in data:\n",
    "    if int(item[3]) >= seq_length and int(item[3]) <= max_frames:\n",
    "        data_clean.append(item)\n",
    "data = data_clean"
   ]
  },
  {
   "cell_type": "code",
   "execution_count": 4,
   "metadata": {},
   "outputs": [],
   "source": [
    "def get_class_one_hot(class_str):\n",
    "    \"\"\"Given a class as a string, return its number in the classes\n",
    "    list. This lets us encode and one-hot it for training.\"\"\"\n",
    "    # Encode it first.\n",
    "    label_encoded = classes.index(class_str)\n",
    "\n",
    "    # Now one-hot it.\n",
    "    label_hot = keras.utils.to_categorical(label_encoded, len(classes))\n",
    "\n",
    "    return label_hot\n",
    "    \n",
    "def get_extracted_sequence(sample):\n",
    "    \"\"\"Get the saved extracted features.\"\"\"\n",
    "    filename = sample[2]\n",
    "    path = os.path.join('sequences' , filename + '-' + str(seq_length) + \\\n",
    "        '-features.npy')\n",
    "    return np.load(path)\n",
    "\n",
    "def split_train_test(data):\n",
    "    \"\"\"Split the data into train and test groups.\"\"\"\n",
    "    train = []\n",
    "    test = []\n",
    "    for item in data:\n",
    "        if item[0] == 'train':\n",
    "            train.append(item)\n",
    "        else:\n",
    "            test.append(item)\n",
    "    return train, test\n",
    "\n",
    "def get_all_sequences_in_memory(data, train_test):\n",
    "    # Get the right dataset.\n",
    "    train, test = split_train_test(data)\n",
    "    data = train if train_test == 'train' else test\n",
    "\n",
    "    print(\"Loading %d samples into memory for %sing.\" % (len(data), train_test))\n",
    "\n",
    "    X, y = [], []\n",
    "    for row in data:\n",
    "        sequence = get_extracted_sequence(row)\n",
    "        X.append(sequence)\n",
    "        y.append(get_class_one_hot(row[1]))\n",
    "\n",
    "    return np.array(X), np.array(y)"
   ]
  },
  {
   "cell_type": "code",
   "execution_count": 5,
   "metadata": {},
   "outputs": [
    {
     "name": "stdout",
     "output_type": "stream",
     "text": [
      "Loading 302 samples into memory for training.\n",
      "Loading 137 samples into memory for testing.\n"
     ]
    }
   ],
   "source": [
    "# Get data.\n",
    "X, y = get_all_sequences_in_memory(data, 'train')\n",
    "X_test, y_test = get_all_sequences_in_memory(data, 'test')"
   ]
  },
  {
   "cell_type": "code",
   "execution_count": 6,
   "metadata": {},
   "outputs": [],
   "source": [
    "nb_classes = len(classes)\n",
    "features_length = X.shape[-1]"
   ]
  },
  {
   "cell_type": "code",
   "execution_count": 7,
   "metadata": {},
   "outputs": [],
   "source": [
    "model = Sequential()\n",
    "model.add(GRU(120, return_sequences=True,\n",
    "               input_shape=(seq_length, features_length)))\n",
    "model.add(GRU(120, return_sequences=False))\n",
    "model.add(Dropout(0.2))\n",
    "model.add(Dense(50, activation='relu'))\n",
    "model.add(Dropout(0.5))\n",
    "model.add(Dense(nb_classes, activation='softmax'))"
   ]
  },
  {
   "cell_type": "code",
   "execution_count": 8,
   "metadata": {},
   "outputs": [
    {
     "name": "stdout",
     "output_type": "stream",
     "text": [
      "Model: \"sequential_1\"\n",
      "_________________________________________________________________\n",
      "Layer (type)                 Output Shape              Param #   \n",
      "=================================================================\n",
      "gru_1 (GRU)                  (None, 40, 120)           780840    \n",
      "_________________________________________________________________\n",
      "gru_2 (GRU)                  (None, 120)               86760     \n",
      "_________________________________________________________________\n",
      "dropout_1 (Dropout)          (None, 120)               0         \n",
      "_________________________________________________________________\n",
      "dense_1 (Dense)              (None, 50)                6050      \n",
      "_________________________________________________________________\n",
      "dropout_2 (Dropout)          (None, 50)                0         \n",
      "_________________________________________________________________\n",
      "dense_2 (Dense)              (None, 6)                 306       \n",
      "=================================================================\n",
      "Total params: 873,956\n",
      "Trainable params: 873,956\n",
      "Non-trainable params: 0\n",
      "_________________________________________________________________\n",
      "None\n"
     ]
    }
   ],
   "source": [
    "# Now compile the network.\n",
    "model.compile(loss='categorical_crossentropy', optimizer='rmsprop',\n",
    "                   metrics=['accuracy'])\n",
    "\n",
    "print(model.summary())"
   ]
  },
  {
   "cell_type": "code",
   "execution_count": 9,
   "metadata": {
    "scrolled": true
   },
   "outputs": [
    {
     "name": "stdout",
     "output_type": "stream",
     "text": [
      "Train on 302 samples, validate on 137 samples\n",
      "Epoch 1/20\n",
      "302/302 [==============================] - 4s 14ms/step - loss: 1.8985 - accuracy: 0.2020 - val_loss: 1.7211 - val_accuracy: 0.1679\n",
      "Epoch 2/20\n",
      "302/302 [==============================] - 2s 8ms/step - loss: 1.6718 - accuracy: 0.3146 - val_loss: 1.5909 - val_accuracy: 0.2336\n",
      "Epoch 3/20\n",
      "302/302 [==============================] - 2s 7ms/step - loss: 1.4664 - accuracy: 0.3808 - val_loss: 1.3258 - val_accuracy: 0.4307\n",
      "Epoch 4/20\n",
      "302/302 [==============================] - 2s 7ms/step - loss: 1.1278 - accuracy: 0.5464 - val_loss: 1.1444 - val_accuracy: 0.5401\n",
      "Epoch 5/20\n",
      "302/302 [==============================] - 2s 7ms/step - loss: 1.1876 - accuracy: 0.5132 - val_loss: 1.0716 - val_accuracy: 0.5620\n",
      "Epoch 6/20\n",
      "302/302 [==============================] - 2s 7ms/step - loss: 0.8632 - accuracy: 0.6887 - val_loss: 0.8342 - val_accuracy: 0.7299\n",
      "Epoch 7/20\n",
      "302/302 [==============================] - 2s 8ms/step - loss: 0.6350 - accuracy: 0.7815 - val_loss: 1.3242 - val_accuracy: 0.5182\n",
      "Epoch 8/20\n",
      "302/302 [==============================] - 2s 7ms/step - loss: 0.5963 - accuracy: 0.7980 - val_loss: 1.4299 - val_accuracy: 0.5255\n",
      "Epoch 9/20\n",
      "302/302 [==============================] - 2s 8ms/step - loss: 0.6516 - accuracy: 0.8013 - val_loss: 1.0624 - val_accuracy: 0.5912\n",
      "Epoch 10/20\n",
      "302/302 [==============================] - 2s 8ms/step - loss: 0.3705 - accuracy: 0.9040 - val_loss: 0.9659 - val_accuracy: 0.7007\n",
      "Epoch 11/20\n",
      "302/302 [==============================] - 2s 8ms/step - loss: 0.4026 - accuracy: 0.8940 - val_loss: 1.0333 - val_accuracy: 0.5839\n",
      "Epoch 12/20\n",
      "302/302 [==============================] - 2s 7ms/step - loss: 0.2528 - accuracy: 0.9272 - val_loss: 1.5315 - val_accuracy: 0.5401\n",
      "Epoch 13/20\n",
      "302/302 [==============================] - 2s 7ms/step - loss: 0.4282 - accuracy: 0.8775 - val_loss: 0.9561 - val_accuracy: 0.6934\n",
      "Epoch 14/20\n",
      "302/302 [==============================] - 2s 7ms/step - loss: 0.1086 - accuracy: 0.9801 - val_loss: 1.0507 - val_accuracy: 0.7007\n",
      "Epoch 15/20\n",
      "302/302 [==============================] - 2s 8ms/step - loss: 0.0880 - accuracy: 0.9901 - val_loss: 2.1897 - val_accuracy: 0.4745\n",
      "Epoch 16/20\n",
      "302/302 [==============================] - 2s 8ms/step - loss: 0.4926 - accuracy: 0.8775 - val_loss: 1.6895 - val_accuracy: 0.6350\n",
      "Epoch 17/20\n",
      "302/302 [==============================] - 2s 8ms/step - loss: 0.1643 - accuracy: 0.9669 - val_loss: 1.0169 - val_accuracy: 0.6642\n",
      "Epoch 18/20\n",
      "302/302 [==============================] - 3s 9ms/step - loss: 0.0632 - accuracy: 0.9934 - val_loss: 2.5353 - val_accuracy: 0.4307\n",
      "Epoch 19/20\n",
      "302/302 [==============================] - 3s 8ms/step - loss: 0.1357 - accuracy: 0.9669 - val_loss: 1.3398 - val_accuracy: 0.6715\n",
      "Epoch 20/20\n",
      "302/302 [==============================] - 3s 10ms/step - loss: 0.0274 - accuracy: 1.0000 - val_loss: 1.5767 - val_accuracy: 0.7007\n"
     ]
    }
   ],
   "source": [
    "history = model.fit(X, y, validation_data=(X_test, y_test),\n",
    "                    batch_size=32, epochs=20)"
   ]
  },
  {
   "cell_type": "code",
   "execution_count": 10,
   "metadata": {},
   "outputs": [
    {
     "data": {
      "image/png": "[encoded data removed]",
      "text/plain": [
       "<Figure size 432x288 with 1 Axes>"
      ]
     },
     "metadata": {
      "needs_background": "light"
     },
     "output_type": "display_data"
    },
    {
     "data": {
      "image/png": "[encoded data removed]",
      "text/plain": [
       "<Figure size 432x288 with 1 Axes>"
      ]
     },
     "metadata": {
      "needs_background": "light"
     },
     "output_type": "display_data"
    }
   ],
   "source": [
    "import matplotlib.pyplot as plt\n",
    "%matplotlib inline\n",
    "acc = history.history['accuracy']\n",
    "val_acc = history.history['val_accuracy']\n",
    "loss = history.history['loss']\n",
    "val_loss = history.history['val_loss']\n",
    "\n",
    "epochs = range(len(acc))\n",
    "\n",
    "plt.plot(epochs, acc, 'bo', label='Training acc')\n",
    "plt.plot(epochs, val_acc, 'b', label='Validation acc')\n",
    "plt.title('Training and validation accuracy')\n",
    "plt.legend()\n",
    "\n",
    "plt.figure()\n",
    "\n",
    "plt.plot(epochs, loss, 'bo', label='Training loss')\n",
    "plt.plot(epochs, val_loss, 'b', label='Validation loss')\n",
    "plt.title('Training and validation loss')\n",
    "plt.legend()\n",
    "\n",
    "plt.show()"
   ]
  },
  {
   "cell_type": "code",
   "execution_count": 11,
   "metadata": {},
   "outputs": [],
   "source": [
    "Y_pred = model.predict(X_test)"
   ]
  },
  {
   "cell_type": "code",
   "execution_count": 12,
   "metadata": {},
   "outputs": [],
   "source": [
    "y_pred = np.argmax(Y_pred, axis=1)\n",
    "y_test = np.argmax(y_test, axis=1)"
   ]
  },
  {
   "cell_type": "code",
   "execution_count": 13,
   "metadata": {},
   "outputs": [
    {
     "name": "stdout",
     "output_type": "stream",
     "text": [
      "Confusion Matrix\n",
      "[[ 6 12  1  0  6  0]\n",
      " [ 1 12  1  0  9  0]\n",
      " [ 0  0 22  0  0  1]\n",
      " [ 0  0  0 16  3  0]\n",
      " [ 0  3  1  1 25  0]\n",
      " [ 0  0  2  0  0 15]]\n",
      "Classification Report\n",
      "                    precision    recall  f1-score   support\n",
      "\n",
      "    CricketBowling       0.86      0.24      0.38        25\n",
      "       CricketShot       0.44      0.52      0.48        23\n",
      "FieldHockeyPenalty       0.81      0.96      0.88        23\n",
      "  HandstandPushups       0.94      0.84      0.89        19\n",
      "  HandstandWalking       0.58      0.83      0.68        30\n",
      "     SoccerPenalty       0.94      0.88      0.91        17\n",
      "\n",
      "          accuracy                           0.70       137\n",
      "         macro avg       0.76      0.71      0.70       137\n",
      "      weighted avg       0.74      0.70      0.68       137\n",
      "\n"
     ]
    }
   ],
   "source": [
    "from sklearn.metrics import classification_report, confusion_matrix\n",
    "\n",
    "print('Confusion Matrix')\n",
    "print(confusion_matrix(y_test, y_pred))\n",
    "print('Classification Report')\n",
    "print(classification_report(y_test, y_pred, target_names=classes))"
   ]
  },
  {
   "cell_type": "markdown",
   "metadata": {},
   "source": [
    "## <div style=\"direction:rtl;text-align:right;font-family:B Lotus, B Nazanin, Tahoma\">منابع</div>\n",
    "\n",
    "<div style=\"direction:rtl;text-align:right;font-family:Tahoma\">\n",
    "برای این فایل آموزشی از مخزن زیر کمک گرفته شده است\n",
    "    </div>\n",
    "    \n",
    "https://github.com/harvitronix/five-video-classification-methods"
   ]
  },
  {
   "cell_type": "markdown",
   "metadata": {},
   "source": [
    "<div class=\"alert alert-block alert-info\">\n",
    "<div style=\"direction:rtl;text-align:right;font-family:B Lotus, B Nazanin, Tahoma\"> دوره پیشرفته یادگیری عمیق<br>علیرضا اخوان پور<br>  آبان و آذر 1399<br>\n",
    "</div>\n",
    "<a href=\"http://class.vision\">Class.Vision</a> - <a href=\"http://AkhavanPour.ir\">AkhavanPour.ir</a> - <a href=\"https://github.com/Alireza-Akhavan/\">GitHub</a>\n",
    "\n",
    "</div>"
   ]
  }
 ],
 "metadata": {
  "kernelspec": {
   "display_name": "tf2-GPU",
   "language": "python",
   "name": "tf2"
  },
  "language_info": {
   "codemirror_mode": {
    "name": "ipython",
    "version": 3
   },
   "file_extension": ".py",
   "mimetype": "text/x-python",
   "name": "python",
   "nbconvert_exporter": "python",
   "pygments_lexer": "ipython3",
   "version": "3.6.9"
  }
 },
 "nbformat": 4,
 "nbformat_minor": 2
}
