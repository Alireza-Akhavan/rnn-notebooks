{
 "cells": [
  {
   "cell_type": "markdown",
   "metadata": {},
   "source": [
    "<center><div style=\"direction:rtl;font-family:B Lotus, B Nazanin, Tahoma\">به نام خدا</div></center>\n",
    "<img src=\"./logo.png\" alt=\"class.vision\" style=\"width: 200px;\"/>\n",
    "<h1><center><div style=\"direction:rtl;font-family:B Lotus, B Nazanin, Tahoma\">مقدمات شبکه‌های بازگشتی و SimpleRNN</div></center></h1>"
   ]
  },
  {
   "cell_type": "code",
   "execution_count": 1,
   "metadata": {},
   "outputs": [
    {
     "name": "stderr",
     "output_type": "stream",
     "text": [
      "Using TensorFlow backend.\n"
     ]
    }
   ],
   "source": [
    "import pandas as pd\n",
    "import numpy as np\n",
    "from keras.models import Sequential\n",
    "from keras.layers import Dense, SimpleRNN\n",
    "import matplotlib.pyplot as plt\n",
    "%matplotlib inline"
   ]
  },
  {
   "cell_type": "markdown",
   "metadata": {},
   "source": [
    "# <div style=\"direction:rtl;text-align:right;font-family:B Lotus, B Nazanin, Tahoma\">ایجاد مجموعه داده</div>\n",
    "\n",
    "<div style=\"direction:rtl;text-align:right;font-family:Tahoma\">\n",
    "ایجاد یک سری سینوسی برای 1500 گام زمانی با نویز تصادفی.</div>"
   ]
  },
  {
   "cell_type": "code",
   "execution_count": 2,
   "metadata": {},
   "outputs": [
    {
     "data": {
      "image/png": "[encoded data removed]",
      "text/plain": [
       "<Figure size 432x288 with 1 Axes>"
      ]
     },
     "metadata": {
      "needs_background": "light"
     },
     "output_type": "display_data"
    }
   ],
   "source": [
    "t = np.arange(0,1500)\n",
    "x = np.sin(0.02*t)+ np.random.rand(1500) * 2\n",
    "plt.plot(x)\n",
    "plt.show()"
   ]
  },
  {
   "cell_type": "markdown",
   "metadata": {},
   "source": [
    "# <div style=\"direction:rtl;text-align:right;font-family:B Lotus, B Nazanin, Tahoma\">جدا کردن داده آموزشی و آزمون</div>\n",
    "\n",
    "<div style=\"direction:rtl;text-align:right;font-family:Tahoma\">\n",
    "1000 مقدار اول برای آموزش و 500 تای آخر برای تست در نظر گرفته شده است.</div>"
   ]
  },
  {
   "cell_type": "code",
   "execution_count": 3,
   "metadata": {},
   "outputs": [],
   "source": [
    "train,test = x[0:1000], x[1000:]"
   ]
  },
  {
   "cell_type": "markdown",
   "metadata": {},
   "source": [
    "# <div style=\"direction:rtl;text-align:right;font-family:B Lotus, B Nazanin, Tahoma\">آماده سازی داده و ایجاد ورودی و label</div>\n",
    "\n",
    "<div style=\"direction:rtl;text-align:right;font-family:Tahoma\">\n",
    "در شبکه های RNN برای ورودی Step در نظر میگیریم.\n",
    "برای شبکه های RNN مهمه که ورودی به شکل دنباله ای از داده باشد. در اینجا step طول دنباله ی ورودی را تعیین میکند. برای مثال اگر x را به عنوان داده خام داشته باشیم:\n",
    "<br>\n",
    "</div>\n",
    "\n",
    "    x = [1,2,3,4,5,6,7,8,9,10]\n",
    "    \n",
    "    for step=1, x input  and its y prediction becomes:\n",
    "    \n",
    "    x  y\n",
    "    1  2\n",
    "    2  3\n",
    "    3  4\n",
    "    4  5\n",
    "    ..\n",
    "    9  10\n",
    "    \n",
    "    for step=3, x and y contain:\n",
    "    \n",
    "    x         y\n",
    "    1,2,3     4\n",
    "    2,3,4     5\n",
    "    3,4,5     6\n",
    "    4,5,6     7\n",
    "    ...\n",
    "    7,8,9     10\n"
   ]
  },
  {
   "cell_type": "code",
   "execution_count": 4,
   "metadata": {},
   "outputs": [],
   "source": [
    "step = 10\n",
    "\n",
    "# convert into dataset data and label\n",
    "def convertToDataset(data, step):\n",
    "    #data = np.append(data,np.repeat(data[-1,],step))\n",
    "    X, Y =[], []\n",
    "    for i in range(len(data)-step):\n",
    "        d=i+step  \n",
    "        X.append(data[i:d,])\n",
    "        Y.append(data[d,])\n",
    "    return np.array(X), np.array(Y)\n",
    "\n",
    "trainX,trainY =convertToDataset(train,step)\n",
    "testX,testY =convertToDataset(test,step)"
   ]
  },
  {
   "cell_type": "code",
   "execution_count": 5,
   "metadata": {},
   "outputs": [
    {
     "name": "stdout",
     "output_type": "stream",
     "text": [
      "(990, 10)\n",
      "(490, 10)\n"
     ]
    }
   ],
   "source": [
    "print(trainX.shape)\n",
    "print(testX.shape)"
   ]
  },
  {
   "cell_type": "markdown",
   "metadata": {},
   "source": [
    "# <div style=\"direction:rtl;text-align:right;font-family:B Lotus, B Nazanin, Tahoma\">تغییر ابعاد داده برای ورودی دادن به شبکه</div>\n",
    "\n",
    "<div style=\"direction:rtl;text-align:right;font-family:Tahoma\">\n",
    "ورودی یک شبکه RNN در Keras به صورت زیر است:\n",
    "</div>\n",
    "\n",
    "    (NumberOfSequences, TimeSteps, ElementsPerStep)"
   ]
  },
  {
   "cell_type": "code",
   "execution_count": 6,
   "metadata": {},
   "outputs": [],
   "source": [
    "trainX = np.reshape(trainX, (trainX.shape[0],  trainX.shape[1], 1))\n",
    "testX = np.reshape(testX, (testX.shape[0],testX.shape[1], 1))"
   ]
  },
  {
   "cell_type": "code",
   "execution_count": 7,
   "metadata": {},
   "outputs": [
    {
     "name": "stdout",
     "output_type": "stream",
     "text": [
      "(990, 10, 1)\n",
      "(490, 10, 1)\n"
     ]
    }
   ],
   "source": [
    "print(trainX.shape)\n",
    "print(testX.shape)"
   ]
  },
  {
   "cell_type": "markdown",
   "metadata": {},
   "source": [
    "# <div style=\"direction:rtl;text-align:right;font-family:B Lotus, B Nazanin, Tahoma\">معماری شبکه و compile آن</div>\n"
   ]
  },
  {
   "cell_type": "code",
   "execution_count": 8,
   "metadata": {},
   "outputs": [],
   "source": [
    "model = Sequential()\n",
    "model.add(SimpleRNN(units=64, activation=\"tanh\"))\n",
    "model.add(Dense(1))\n",
    "model.compile(loss='mean_squared_error', optimizer='rmsprop')"
   ]
  },
  {
   "cell_type": "markdown",
   "metadata": {},
   "source": [
    "<div style=\"direction:rtl;text-align:right;font-family:Tahoma\">\n",
    "به نظر شما model.summary() را می‌توانیم صدا بزنیم؟ چرا؟\n",
    "<br>\n",
    "model.input\n",
    "چه چیزی بر می‌گرداند!\n",
    "</div>"
   ]
  },
  {
   "cell_type": "markdown",
   "metadata": {},
   "source": [
    "# <div style=\"direction:rtl;text-align:right;font-family:B Lotus, B Nazanin, Tahoma\">آموزش مدل</div>\n"
   ]
  },
  {
   "cell_type": "code",
   "execution_count": 9,
   "metadata": {},
   "outputs": [
    {
     "name": "stdout",
     "output_type": "stream",
     "text": [
      "Epoch 1/100\n",
      " - 7s - loss: 0.7639\n",
      "Epoch 2/100\n",
      " - 1s - loss: 0.4325\n",
      "Epoch 3/100\n",
      " - 1s - loss: 0.4140\n",
      "Epoch 4/100\n",
      " - 1s - loss: 0.4124\n",
      "Epoch 5/100\n",
      " - 1s - loss: 0.4048\n",
      "Epoch 6/100\n",
      " - 1s - loss: 0.4024\n",
      "Epoch 7/100\n",
      " - 1s - loss: 0.3989\n",
      "Epoch 8/100\n",
      " - 1s - loss: 0.3947\n",
      "Epoch 9/100\n",
      " - 1s - loss: 0.3917\n",
      "Epoch 10/100\n",
      " - 1s - loss: 0.3912\n",
      "Epoch 11/100\n",
      " - 1s - loss: 0.3889\n",
      "Epoch 12/100\n",
      " - 1s - loss: 0.3908\n",
      "Epoch 13/100\n",
      " - 1s - loss: 0.3847\n",
      "Epoch 14/100\n",
      " - 1s - loss: 0.3862\n",
      "Epoch 15/100\n",
      " - 1s - loss: 0.3829\n",
      "Epoch 16/100\n",
      " - 1s - loss: 0.3755\n",
      "Epoch 17/100\n",
      " - 1s - loss: 0.3829\n",
      "Epoch 18/100\n",
      " - 1s - loss: 0.3742\n",
      "Epoch 19/100\n",
      " - 1s - loss: 0.3674\n",
      "Epoch 20/100\n",
      " - 1s - loss: 0.3691\n",
      "Epoch 21/100\n",
      " - 1s - loss: 0.3724\n",
      "Epoch 22/100\n",
      " - 1s - loss: 0.3703\n",
      "Epoch 23/100\n",
      " - 1s - loss: 0.3643\n",
      "Epoch 24/100\n",
      " - 1s - loss: 0.3625\n",
      "Epoch 25/100\n",
      " - 1s - loss: 0.3631\n",
      "Epoch 26/100\n",
      " - 1s - loss: 0.3631\n",
      "Epoch 27/100\n",
      " - 1s - loss: 0.3628\n",
      "Epoch 28/100\n",
      " - 1s - loss: 0.3552\n",
      "Epoch 29/100\n",
      " - 1s - loss: 0.3560\n",
      "Epoch 30/100\n",
      " - 1s - loss: 0.3585\n",
      "Epoch 31/100\n",
      " - 1s - loss: 0.3478\n",
      "Epoch 32/100\n",
      " - 1s - loss: 0.3495\n",
      "Epoch 33/100\n",
      " - 1s - loss: 0.3499\n",
      "Epoch 34/100\n",
      " - 1s - loss: 0.3411\n",
      "Epoch 35/100\n",
      " - 1s - loss: 0.3415\n",
      "Epoch 36/100\n",
      " - 1s - loss: 0.3381\n",
      "Epoch 37/100\n",
      " - 1s - loss: 0.3396\n",
      "Epoch 38/100\n",
      " - 1s - loss: 0.3311\n",
      "Epoch 39/100\n",
      " - 1s - loss: 0.3328\n",
      "Epoch 40/100\n",
      " - 1s - loss: 0.3291\n",
      "Epoch 41/100\n",
      " - 1s - loss: 0.3262\n",
      "Epoch 42/100\n",
      " - 1s - loss: 0.3210\n",
      "Epoch 43/100\n",
      " - 1s - loss: 0.3249\n",
      "Epoch 44/100\n",
      " - 1s - loss: 0.3210\n",
      "Epoch 45/100\n",
      " - 1s - loss: 0.3164\n",
      "Epoch 46/100\n",
      " - 1s - loss: 0.3159\n",
      "Epoch 47/100\n",
      " - 1s - loss: 0.3071\n",
      "Epoch 48/100\n",
      " - 1s - loss: 0.3031\n",
      "Epoch 49/100\n",
      " - 1s - loss: 0.3018\n",
      "Epoch 50/100\n",
      " - 1s - loss: 0.2984\n",
      "Epoch 51/100\n",
      " - 1s - loss: 0.3010\n",
      "Epoch 52/100\n",
      " - 1s - loss: 0.2901\n",
      "Epoch 53/100\n",
      " - 1s - loss: 0.2881\n",
      "Epoch 54/100\n",
      " - 1s - loss: 0.2847\n",
      "Epoch 55/100\n",
      " - 1s - loss: 0.2789\n",
      "Epoch 56/100\n",
      " - 1s - loss: 0.2759\n",
      "Epoch 57/100\n",
      " - 1s - loss: 0.2741\n",
      "Epoch 58/100\n",
      " - 1s - loss: 0.2668\n",
      "Epoch 59/100\n",
      " - 1s - loss: 0.2603\n",
      "Epoch 60/100\n",
      " - 1s - loss: 0.2589\n",
      "Epoch 61/100\n",
      " - 1s - loss: 0.2579\n",
      "Epoch 62/100\n",
      " - 1s - loss: 0.2502\n",
      "Epoch 63/100\n",
      " - 1s - loss: 0.2473\n",
      "Epoch 64/100\n",
      " - 1s - loss: 0.2426\n",
      "Epoch 65/100\n",
      " - 1s - loss: 0.2319\n",
      "Epoch 66/100\n",
      " - 1s - loss: 0.2306\n",
      "Epoch 67/100\n",
      " - 1s - loss: 0.2281\n",
      "Epoch 68/100\n",
      " - 1s - loss: 0.2242\n",
      "Epoch 69/100\n",
      " - 1s - loss: 0.2205\n",
      "Epoch 70/100\n",
      " - 1s - loss: 0.2181\n",
      "Epoch 71/100\n",
      " - 1s - loss: 0.2095\n",
      "Epoch 72/100\n",
      " - 1s - loss: 0.2083\n",
      "Epoch 73/100\n",
      " - 1s - loss: 0.2023\n",
      "Epoch 74/100\n",
      " - 1s - loss: 0.1980\n",
      "Epoch 75/100\n",
      " - 1s - loss: 0.1979\n",
      "Epoch 76/100\n",
      " - 1s - loss: 0.1899\n",
      "Epoch 77/100\n",
      " - 1s - loss: 0.1857\n",
      "Epoch 78/100\n",
      " - 1s - loss: 0.1832\n",
      "Epoch 79/100\n",
      " - 1s - loss: 0.1764\n",
      "Epoch 80/100\n",
      " - 1s - loss: 0.1780\n",
      "Epoch 81/100\n",
      " - 1s - loss: 0.1701\n",
      "Epoch 82/100\n",
      " - 1s - loss: 0.1676\n",
      "Epoch 83/100\n",
      " - 1s - loss: 0.1635\n",
      "Epoch 84/100\n",
      " - 1s - loss: 0.1614\n",
      "Epoch 85/100\n",
      " - 1s - loss: 0.1601\n",
      "Epoch 86/100\n",
      " - 1s - loss: 0.1538\n",
      "Epoch 87/100\n",
      " - 1s - loss: 0.1492\n",
      "Epoch 88/100\n",
      " - 1s - loss: 0.1477\n",
      "Epoch 89/100\n",
      " - 1s - loss: 0.1400\n",
      "Epoch 90/100\n",
      " - 1s - loss: 0.1365\n",
      "Epoch 91/100\n",
      " - 1s - loss: 0.1354\n",
      "Epoch 92/100\n",
      " - 1s - loss: 0.1334\n",
      "Epoch 93/100\n",
      " - 1s - loss: 0.1303\n",
      "Epoch 94/100\n",
      " - 1s - loss: 0.1269\n",
      "Epoch 95/100\n",
      " - 1s - loss: 0.1231\n",
      "Epoch 96/100\n",
      " - 1s - loss: 0.1245\n",
      "Epoch 97/100\n",
      " - 1s - loss: 0.1151\n",
      "Epoch 98/100\n",
      " - 1s - loss: 0.1133\n",
      "Epoch 99/100\n",
      " - 1s - loss: 0.1130\n",
      "Epoch 100/100\n",
      " - 1s - loss: 0.1077\n"
     ]
    }
   ],
   "source": [
    "history = model.fit(trainX,trainY, epochs=100, batch_size=16, verbose=2)"
   ]
  },
  {
   "cell_type": "markdown",
   "metadata": {},
   "source": [
    "<div style=\"direction:rtl;text-align:right;font-family:Tahoma\">\n",
    "حالا model.summary() را می‌توانیم صدا بزنیم؟ چرا؟\n",
    "<br>\n",
    "    الان\n",
    "model.input\n",
    "چه چیزی بر می‌گرداند؟\n",
    "</div>"
   ]
  },
  {
   "cell_type": "code",
   "execution_count": 10,
   "metadata": {},
   "outputs": [
    {
     "data": {
      "image/png": "[encoded data removed]",
      "text/plain": [
       "<Figure size 432x288 with 1 Axes>"
      ]
     },
     "metadata": {
      "needs_background": "light"
     },
     "output_type": "display_data"
    }
   ],
   "source": [
    "import matplotlib.pyplot as plt\n",
    "%matplotlib inline\n",
    "\n",
    "loss = history.history['loss']\n",
    "plt.plot(loss, label='Training loss')\n",
    "plt.legend()\n",
    "\n",
    "plt.show()"
   ]
  },
  {
   "cell_type": "markdown",
   "metadata": {},
   "source": [
    "# <div style=\"direction:rtl;text-align:right;font-family:B Lotus, B Nazanin, Tahoma\"> ارزیابی مدل</div>"
   ]
  },
  {
   "cell_type": "code",
   "execution_count": 11,
   "metadata": {},
   "outputs": [
    {
     "name": "stdout",
     "output_type": "stream",
     "text": [
      "0.08597392486502425\n"
     ]
    }
   ],
   "source": [
    "trainScore = model.evaluate(trainX, trainY, verbose=0)\n",
    "print(trainScore)"
   ]
  },
  {
   "cell_type": "markdown",
   "metadata": {},
   "source": [
    "# <div style=\"direction:rtl;text-align:right;font-family:B Lotus, B Nazanin, Tahoma\"> رسم سری اصلی و پیش بینی برای داده های آموزشی و تست </div>\n"
   ]
  },
  {
   "cell_type": "code",
   "execution_count": 12,
   "metadata": {},
   "outputs": [],
   "source": [
    "trainPredict = model.predict(trainX)\n",
    "testPredict= model.predict(testX)\n",
    "predicted=np.concatenate((trainPredict,testPredict),axis=0)"
   ]
  },
  {
   "cell_type": "code",
   "execution_count": 13,
   "metadata": {},
   "outputs": [
    {
     "data": {
      "image/png": "[encoded data removed]",
      "text/plain": [
       "<Figure size 432x288 with 1 Axes>"
      ]
     },
     "metadata": {
      "needs_background": "light"
     },
     "output_type": "display_data"
    }
   ],
   "source": [
    "plt.plot(x)\n",
    "plt.plot(predicted)\n",
    "plt.axvline(len(trainX), c=\"r\")\n",
    "plt.show()"
   ]
  },
  {
   "cell_type": "markdown",
   "metadata": {},
   "source": [
    "# <div style=\"direction:rtl;text-align:right;font-family:B Lotus, B Nazanin, Tahoma\"> ورودی مدل با طول متفاوت </div>\n"
   ]
  },
  {
   "cell_type": "code",
   "execution_count": 15,
   "metadata": {},
   "outputs": [],
   "source": [
    "testX,testY =convertToDataset(test,50)"
   ]
  },
  {
   "cell_type": "code",
   "execution_count": 19,
   "metadata": {},
   "outputs": [
    {
     "data": {
      "text/plain": [
       "(450, 50, 1)"
      ]
     },
     "execution_count": 19,
     "metadata": {},
     "output_type": "execute_result"
    }
   ],
   "source": [
    "testX = np.reshape(testX, (testX.shape[0],testX.shape[1], 1))\n",
    "testX.shape"
   ]
  },
  {
   "cell_type": "markdown",
   "metadata": {},
   "source": [
    "<div style=\"direction:rtl;text-align:right;font-family:Tahoma\">\n",
    "همان طور که مشخص است کد با خطا مواجه می‌شود! چرا؟! </div>\n"
   ]
  },
  {
   "cell_type": "code",
   "execution_count": 22,
   "metadata": {},
   "outputs": [
    {
     "ename": "ValueError",
     "evalue": "Error when checking input: expected sequential_1_input to have shape (10, 1) but got array with shape (50, 1)",
     "output_type": "error",
     "traceback": [
      "\u001b[1;31m---------------------------------------------------------------------------\u001b[0m",
      "\u001b[1;31mValueError\u001b[0m                                Traceback (most recent call last)",
      "\u001b[1;32m<ipython-input-22-f283b2fe1718>\u001b[0m in \u001b[0;36m<module>\u001b[1;34m\u001b[0m\n\u001b[0;32m      1\u001b[0m \u001b[1;31m#trainPredict = model.predict(trainX)\u001b[0m\u001b[1;33m\u001b[0m\u001b[1;33m\u001b[0m\u001b[1;33m\u001b[0m\u001b[0m\n\u001b[1;32m----> 2\u001b[1;33m \u001b[0mtestPredict\u001b[0m\u001b[1;33m=\u001b[0m \u001b[0mmodel\u001b[0m\u001b[1;33m.\u001b[0m\u001b[0mpredict\u001b[0m\u001b[1;33m(\u001b[0m\u001b[0mtestX\u001b[0m\u001b[1;33m)\u001b[0m\u001b[1;33m\u001b[0m\u001b[1;33m\u001b[0m\u001b[0m\n\u001b[0m\u001b[0;32m      3\u001b[0m \u001b[1;31m#predicted=np.concatenate((trainPredict,testPredict),axis=0)\u001b[0m\u001b[1;33m\u001b[0m\u001b[1;33m\u001b[0m\u001b[1;33m\u001b[0m\u001b[0m\n",
      "\u001b[1;32m~\\Miniconda3\\envs\\tensorflow\\lib\\site-packages\\keras\\engine\\training.py\u001b[0m in \u001b[0;36mpredict\u001b[1;34m(self, x, batch_size, verbose, steps)\u001b[0m\n\u001b[0;32m   1147\u001b[0m                              'argument.')\n\u001b[0;32m   1148\u001b[0m         \u001b[1;31m# Validate user data.\u001b[0m\u001b[1;33m\u001b[0m\u001b[1;33m\u001b[0m\u001b[1;33m\u001b[0m\u001b[0m\n\u001b[1;32m-> 1149\u001b[1;33m         \u001b[0mx\u001b[0m\u001b[1;33m,\u001b[0m \u001b[0m_\u001b[0m\u001b[1;33m,\u001b[0m \u001b[0m_\u001b[0m \u001b[1;33m=\u001b[0m \u001b[0mself\u001b[0m\u001b[1;33m.\u001b[0m\u001b[0m_standardize_user_data\u001b[0m\u001b[1;33m(\u001b[0m\u001b[0mx\u001b[0m\u001b[1;33m)\u001b[0m\u001b[1;33m\u001b[0m\u001b[1;33m\u001b[0m\u001b[0m\n\u001b[0m\u001b[0;32m   1150\u001b[0m         \u001b[1;32mif\u001b[0m \u001b[0mself\u001b[0m\u001b[1;33m.\u001b[0m\u001b[0mstateful\u001b[0m\u001b[1;33m:\u001b[0m\u001b[1;33m\u001b[0m\u001b[1;33m\u001b[0m\u001b[0m\n\u001b[0;32m   1151\u001b[0m             \u001b[1;32mif\u001b[0m \u001b[0mx\u001b[0m\u001b[1;33m[\u001b[0m\u001b[1;36m0\u001b[0m\u001b[1;33m]\u001b[0m\u001b[1;33m.\u001b[0m\u001b[0mshape\u001b[0m\u001b[1;33m[\u001b[0m\u001b[1;36m0\u001b[0m\u001b[1;33m]\u001b[0m \u001b[1;33m>\u001b[0m \u001b[0mbatch_size\u001b[0m \u001b[1;32mand\u001b[0m \u001b[0mx\u001b[0m\u001b[1;33m[\u001b[0m\u001b[1;36m0\u001b[0m\u001b[1;33m]\u001b[0m\u001b[1;33m.\u001b[0m\u001b[0mshape\u001b[0m\u001b[1;33m[\u001b[0m\u001b[1;36m0\u001b[0m\u001b[1;33m]\u001b[0m \u001b[1;33m%\u001b[0m \u001b[0mbatch_size\u001b[0m \u001b[1;33m!=\u001b[0m \u001b[1;36m0\u001b[0m\u001b[1;33m:\u001b[0m\u001b[1;33m\u001b[0m\u001b[1;33m\u001b[0m\u001b[0m\n",
      "\u001b[1;32m~\\Miniconda3\\envs\\tensorflow\\lib\\site-packages\\keras\\engine\\training.py\u001b[0m in \u001b[0;36m_standardize_user_data\u001b[1;34m(self, x, y, sample_weight, class_weight, check_array_lengths, batch_size)\u001b[0m\n\u001b[0;32m    749\u001b[0m             \u001b[0mfeed_input_shapes\u001b[0m\u001b[1;33m,\u001b[0m\u001b[1;33m\u001b[0m\u001b[1;33m\u001b[0m\u001b[0m\n\u001b[0;32m    750\u001b[0m             \u001b[0mcheck_batch_axis\u001b[0m\u001b[1;33m=\u001b[0m\u001b[1;32mFalse\u001b[0m\u001b[1;33m,\u001b[0m  \u001b[1;31m# Don't enforce the batch size.\u001b[0m\u001b[1;33m\u001b[0m\u001b[1;33m\u001b[0m\u001b[0m\n\u001b[1;32m--> 751\u001b[1;33m             exception_prefix='input')\n\u001b[0m\u001b[0;32m    752\u001b[0m \u001b[1;33m\u001b[0m\u001b[0m\n\u001b[0;32m    753\u001b[0m         \u001b[1;32mif\u001b[0m \u001b[0my\u001b[0m \u001b[1;32mis\u001b[0m \u001b[1;32mnot\u001b[0m \u001b[1;32mNone\u001b[0m\u001b[1;33m:\u001b[0m\u001b[1;33m\u001b[0m\u001b[1;33m\u001b[0m\u001b[0m\n",
      "\u001b[1;32m~\\Miniconda3\\envs\\tensorflow\\lib\\site-packages\\keras\\engine\\training_utils.py\u001b[0m in \u001b[0;36mstandardize_input_data\u001b[1;34m(data, names, shapes, check_batch_axis, exception_prefix)\u001b[0m\n\u001b[0;32m    136\u001b[0m                             \u001b[1;34m': expected '\u001b[0m \u001b[1;33m+\u001b[0m \u001b[0mnames\u001b[0m\u001b[1;33m[\u001b[0m\u001b[0mi\u001b[0m\u001b[1;33m]\u001b[0m \u001b[1;33m+\u001b[0m \u001b[1;34m' to have shape '\u001b[0m \u001b[1;33m+\u001b[0m\u001b[1;33m\u001b[0m\u001b[1;33m\u001b[0m\u001b[0m\n\u001b[0;32m    137\u001b[0m                             \u001b[0mstr\u001b[0m\u001b[1;33m(\u001b[0m\u001b[0mshape\u001b[0m\u001b[1;33m)\u001b[0m \u001b[1;33m+\u001b[0m \u001b[1;34m' but got array with shape '\u001b[0m \u001b[1;33m+\u001b[0m\u001b[1;33m\u001b[0m\u001b[1;33m\u001b[0m\u001b[0m\n\u001b[1;32m--> 138\u001b[1;33m                             str(data_shape))\n\u001b[0m\u001b[0;32m    139\u001b[0m     \u001b[1;32mreturn\u001b[0m \u001b[0mdata\u001b[0m\u001b[1;33m\u001b[0m\u001b[1;33m\u001b[0m\u001b[0m\n\u001b[0;32m    140\u001b[0m \u001b[1;33m\u001b[0m\u001b[0m\n",
      "\u001b[1;31mValueError\u001b[0m: Error when checking input: expected sequential_1_input to have shape (10, 1) but got array with shape (50, 1)"
     ]
    }
   ],
   "source": [
    "testPredict= model.predict(testX)\n"
   ]
  },
  {
   "cell_type": "code",
   "execution_count": 23,
   "metadata": {},
   "outputs": [
    {
     "data": {
      "text/plain": [
       "<tf.Tensor 'sequential_1_input:0' shape=(?, 10, 1) dtype=float32>"
      ]
     },
     "execution_count": 23,
     "metadata": {},
     "output_type": "execute_result"
    }
   ],
   "source": [
    "model.input"
   ]
  },
  {
   "cell_type": "markdown",
   "metadata": {},
   "source": [
    "<div class=\"alert alert-block alert-info\">\n",
    "<div style=\"direction:rtl;text-align:right;font-family:B Lotus, B Nazanin, Tahoma\"> دوره پیشرفته یادگیری عمیق<br>علیرضا اخوان پور<br>  آبان و آذر 1399<br>\n",
    "</div>\n",
    "<a href=\"http://class.vision\">Class.Vision</a> - <a href=\"http://AkhavanPour.ir\">AkhavanPour.ir</a> - <a href=\"https://github.com/Alireza-Akhavan/\">GitHub</a>\n",
    "\n",
    "</div>"
   ]
  }
 ],
 "metadata": {
  "kernelspec": {
   "display_name": "tensorflow",
   "language": "python",
   "name": "tensorflow"
  },
  "language_info": {
   "codemirror_mode": {
    "name": "ipython",
    "version": 3
   },
   "file_extension": ".py",
   "mimetype": "text/x-python",
   "name": "python",
   "nbconvert_exporter": "python",
   "pygments_lexer": "ipython3",
   "version": "3.6.8"
  }
 },
 "nbformat": 4,
 "nbformat_minor": 2
}
