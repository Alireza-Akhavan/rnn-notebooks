{
 "cells": [
  {
   "cell_type": "code",
   "execution_count": 1,
   "metadata": {},
   "outputs": [
    {
     "name": "stderr",
     "output_type": "stream",
     "text": [
      "Using TensorFlow backend.\n"
     ]
    }
   ],
   "source": [
    "import os\n",
    "import numpy as np\n",
    "from keras import backend as K\n",
    "from keras.layers.convolutional import Conv2D, MaxPooling2D\n",
    "from keras.layers import Input, Dense, Activation, GlobalAveragePooling2D, Flatten\n",
    "from keras.layers import Reshape, Lambda, RepeatVector\n",
    "from keras.layers.merge import add, concatenate\n",
    "from keras.models import Model\n",
    "from keras.layers.recurrent import GRU, LSTM\n",
    "from keras.optimizers import SGD\n",
    "from keras.utils.data_utils import get_file\n",
    "from keras.preprocessing import image\n",
    "import keras.callbacks\n",
    "from keras.preprocessing.image import ImageDataGenerator\n",
    "from keras.models import load_model"
   ]
  },
  {
   "cell_type": "code",
   "execution_count": 2,
   "metadata": {},
   "outputs": [],
   "source": [
    "# model = load_model('cnn-lstm-generated_10c-1.h5')"
   ]
  },
  {
   "cell_type": "code",
   "execution_count": 2,
   "metadata": {},
   "outputs": [],
   "source": [
    "def CNN_RNN_MODEL(img_h, channel, num_classes):\n",
    "#     words_per_epoch = 16000\n",
    "#     val_split = 0.2\n",
    "#     val_words = int(words_per_epoch * (val_split))\n",
    "\n",
    "    # Network parameters\n",
    "    conv_filters = 16\n",
    "    kernel_size = (3, 3)\n",
    "    pool_size = 2\n",
    "    time_dense_size = 128\n",
    "    rnn_size = 256\n",
    "    minibatch_size = 32\n",
    "    act = 'relu'\n",
    "    img_w = 175\n",
    "    \n",
    "    input_shape = (img_w, img_h, channel)\n",
    "    input_data = Input(name='the_input', shape=input_shape, dtype='float32')\n",
    "    inner = Conv2D(conv_filters, kernel_size, padding='same',\n",
    "                   activation=act, kernel_initializer='he_normal',\n",
    "                   name='conv1')(input_data)\n",
    "    inner = MaxPooling2D(pool_size=(pool_size, pool_size), name='max1')(inner)\n",
    "    inner = Conv2D(conv_filters, kernel_size, padding='same',\n",
    "                   activation=act, kernel_initializer='he_normal',\n",
    "                   name='conv2')(inner)\n",
    "    inner = MaxPooling2D(pool_size=(pool_size, pool_size), name='max2')(inner)\n",
    "    \n",
    "    conv_to_rnn_dims = (img_w // (pool_size ** 2),\n",
    "                        (img_h // (pool_size ** 2)) *conv_filters)\n",
    "    inner = Reshape(target_shape=conv_to_rnn_dims, name='reshape')(inner)\n",
    "\n",
    "    gru_2 = GRU(rnn_size, return_sequences=False,\n",
    "                kernel_initializer='he_normal', name='gru2')(inner)\n",
    "    gru_2b = GRU(rnn_size, return_sequences=False, go_backwards=True,\n",
    "                 kernel_initializer='he_normal', name='gru2_b')(inner)\n",
    "\n",
    "    # transforms RNN output to character activations:\n",
    "    inner = Dense(num_classes, kernel_initializer='he_normal',\n",
    "                  name='dense2')(concatenate([gru_2, gru_2b]))\n",
    "    y_pred = Activation('softmax', name='softmax')(inner)\n",
    "    model =  Model(inputs=input_data, outputs=y_pred)\n",
    "    \n",
    "    return model"
   ]
  },
  {
   "cell_type": "code",
   "execution_count": 3,
   "metadata": {},
   "outputs": [
    {
     "name": "stdout",
     "output_type": "stream",
     "text": [
      "__________________________________________________________________________________________________\n",
      "Layer (type)                    Output Shape         Param #     Connected to                     \n",
      "==================================================================================================\n",
      "the_input (InputLayer)          (None, 175, 75, 3)   0                                            \n",
      "__________________________________________________________________________________________________\n",
      "conv1 (Conv2D)                  (None, 175, 75, 16)  448         the_input[0][0]                  \n",
      "__________________________________________________________________________________________________\n",
      "max1 (MaxPooling2D)             (None, 87, 37, 16)   0           conv1[0][0]                      \n",
      "__________________________________________________________________________________________________\n",
      "conv2 (Conv2D)                  (None, 87, 37, 16)   2320        max1[0][0]                       \n",
      "__________________________________________________________________________________________________\n",
      "max2 (MaxPooling2D)             (None, 43, 18, 16)   0           conv2[0][0]                      \n",
      "__________________________________________________________________________________________________\n",
      "reshape (Reshape)               (None, 43, 288)      0           max2[0][0]                       \n",
      "__________________________________________________________________________________________________\n",
      "gru2 (GRU)                      (None, 256)          418560      reshape[0][0]                    \n",
      "__________________________________________________________________________________________________\n",
      "gru2_b (GRU)                    (None, 256)          418560      reshape[0][0]                    \n",
      "__________________________________________________________________________________________________\n",
      "concatenate_1 (Concatenate)     (None, 512)          0           gru2[0][0]                       \n",
      "                                                                 gru2_b[0][0]                     \n",
      "__________________________________________________________________________________________________\n",
      "dense2 (Dense)                  (None, 10)           5130        concatenate_1[0][0]              \n",
      "__________________________________________________________________________________________________\n",
      "softmax (Activation)            (None, 10)           0           dense2[0][0]                     \n",
      "==================================================================================================\n",
      "Total params: 845,018\n",
      "Trainable params: 845,018\n",
      "Non-trainable params: 0\n",
      "__________________________________________________________________________________________________\n"
     ]
    }
   ],
   "source": [
    "model = CNN_RNN_MODEL(75, 3, 10)\n",
    "sgd = SGD(lr=0.02, decay=1e-6, momentum=0.9, nesterov=True, clipnorm=5)\n",
    "model.compile(optimizer=sgd, loss='categorical_crossentropy', metrics=['accuracy'])\n",
    "\n",
    "model.summary()"
   ]
  },
  {
   "cell_type": "code",
   "execution_count": 5,
   "metadata": {},
   "outputs": [
    {
     "name": "stdout",
     "output_type": "stream",
     "text": [
      "Found 360 images belonging to 10 classes.\n",
      "Found 39 images belonging to 10 classes.\n"
     ]
    }
   ],
   "source": [
    "batch_size = 32\n",
    "train_path = 'iran_shahr/train'\n",
    "val_path = 'iran_shahr/val'\n",
    "img_width, img_hight = (175, 75)\n",
    "\n",
    "\n",
    "# this is the augmentation configuration we will use for training\n",
    "train_datagen = ImageDataGenerator(\n",
    "        rescale=1./255,\n",
    "        shear_range=0.2,\n",
    "        zoom_range=0.2,\n",
    "        horizontal_flip=True)\n",
    "\n",
    "# this is the augmentation configuration we will use for testing:\n",
    "# only rescaling\n",
    "val_datagen = ImageDataGenerator(rescale=1./255)\n",
    "\n",
    "# this is a generator that will read pictures found in\n",
    "# subfolers of 'data/train', and indefinitely generate\n",
    "# batches of augmented image data\n",
    "train_generator = train_datagen.flow_from_directory(\n",
    "        train_path,  # this is the target directory\n",
    "        target_size=(img_width, img_hight),  # all images will be resized to 150x150\n",
    "        batch_size=batch_size, \n",
    "        class_mode='categorical')  # since we use binary_crossentropy loss, we need binary labels\n",
    "\n",
    "# this is a similar generator, for validation data\n",
    "validation_generator = val_datagen.flow_from_directory(\n",
    "        val_path,\n",
    "        target_size=(img_width, img_hight),\n",
    "        batch_size=batch_size,\n",
    "        class_mode='categorical')"
   ]
  },
  {
   "cell_type": "code",
   "execution_count": 6,
   "metadata": {
    "scrolled": false
   },
   "outputs": [
    {
     "name": "stdout",
     "output_type": "stream",
     "text": [
      "Epoch 1/50\n",
      "11/11 [==============================] - 10s 902ms/step - loss: 2.6002 - acc: 0.1080 - val_loss: 2.3075 - val_acc: 0.1875\n",
      "Epoch 2/50\n",
      "11/11 [==============================] - 3s 260ms/step - loss: 2.3294 - acc: 0.1214 - val_loss: 2.2622 - val_acc: 0.1429\n",
      "Epoch 3/50\n",
      "11/11 [==============================] - 3s 243ms/step - loss: 2.2966 - acc: 0.1307 - val_loss: 2.2745 - val_acc: 0.0938\n",
      "Epoch 4/50\n",
      "11/11 [==============================] - 3s 242ms/step - loss: 2.2649 - acc: 0.2165 - val_loss: 2.1042 - val_acc: 0.5714\n",
      "Epoch 5/50\n",
      "11/11 [==============================] - 3s 248ms/step - loss: 2.1972 - acc: 0.2222 - val_loss: 2.0846 - val_acc: 0.1875\n",
      "Epoch 6/50\n",
      "11/11 [==============================] - 3s 243ms/step - loss: 2.1059 - acc: 0.2407 - val_loss: 1.4311 - val_acc: 0.5714\n",
      "Epoch 7/50\n",
      "11/11 [==============================] - 3s 293ms/step - loss: 2.0018 - acc: 0.2287 - val_loss: 1.9641 - val_acc: 0.3125\n",
      "Epoch 8/50\n",
      "11/11 [==============================] - 3s 258ms/step - loss: 1.9320 - acc: 0.3014 - val_loss: 1.2307 - val_acc: 0.5714\n",
      "Epoch 9/50\n",
      "11/11 [==============================] - 3s 257ms/step - loss: 1.8816 - acc: 0.3293 - val_loss: 1.9275 - val_acc: 0.2500\n",
      "Epoch 10/50\n",
      "11/11 [==============================] - 3s 255ms/step - loss: 1.9035 - acc: 0.3173 - val_loss: 1.1291 - val_acc: 0.8571\n",
      "Epoch 11/50\n",
      "11/11 [==============================] - 3s 258ms/step - loss: 1.8937 - acc: 0.3272 - val_loss: 1.7044 - val_acc: 0.3438\n",
      "Epoch 12/50\n",
      "11/11 [==============================] - 3s 257ms/step - loss: 1.7380 - acc: 0.3929 - val_loss: 1.5299 - val_acc: 0.2857\n",
      "Epoch 13/50\n",
      "11/11 [==============================] - 3s 260ms/step - loss: 1.7802 - acc: 0.3892 - val_loss: 1.4534 - val_acc: 0.5312\n",
      "Epoch 14/50\n",
      "11/11 [==============================] - 3s 261ms/step - loss: 1.6590 - acc: 0.4085 - val_loss: 1.4350 - val_acc: 0.4286\n",
      "Epoch 15/50\n",
      "11/11 [==============================] - 3s 263ms/step - loss: 1.7920 - acc: 0.3622 - val_loss: 1.3659 - val_acc: 0.5000\n",
      "Epoch 16/50\n",
      "11/11 [==============================] - 3s 263ms/step - loss: 1.7374 - acc: 0.3742 - val_loss: 1.2221 - val_acc: 0.5714\n",
      "Epoch 17/50\n",
      "11/11 [==============================] - 3s 270ms/step - loss: 1.6460 - acc: 0.4127 - val_loss: 1.3032 - val_acc: 0.5312\n",
      "Epoch 18/50\n",
      "11/11 [==============================] - 3s 254ms/step - loss: 1.6352 - acc: 0.4165 - val_loss: 1.7278 - val_acc: 0.4286\n",
      "Epoch 19/50\n",
      "11/11 [==============================] - 3s 264ms/step - loss: 1.6392 - acc: 0.4264 - val_loss: 1.3394 - val_acc: 0.4688\n",
      "Epoch 20/50\n",
      "11/11 [==============================] - 3s 265ms/step - loss: 1.4940 - acc: 0.4787 - val_loss: 1.3881 - val_acc: 0.5714\n",
      "Epoch 21/50\n",
      "11/11 [==============================] - 3s 262ms/step - loss: 1.5983 - acc: 0.4522 - val_loss: 1.4225 - val_acc: 0.4375\n",
      "Epoch 22/50\n",
      "11/11 [==============================] - 3s 264ms/step - loss: 1.3847 - acc: 0.5086 - val_loss: 0.6056 - val_acc: 0.8571\n",
      "Epoch 23/50\n",
      "11/11 [==============================] - 3s 270ms/step - loss: 1.4201 - acc: 0.5185 - val_loss: 1.1524 - val_acc: 0.6250\n",
      "Epoch 24/50\n",
      "11/11 [==============================] - 3s 260ms/step - loss: 1.2609 - acc: 0.5678 - val_loss: 0.7763 - val_acc: 0.7143\n",
      "Epoch 25/50\n",
      "11/11 [==============================] - 3s 263ms/step - loss: 1.2168 - acc: 0.5739 - val_loss: 0.9316 - val_acc: 0.5938\n",
      "Epoch 26/50\n",
      "11/11 [==============================] - 3s 263ms/step - loss: 1.0597 - acc: 0.6242 - val_loss: 0.7032 - val_acc: 0.7143\n",
      "Epoch 27/50\n",
      "11/11 [==============================] - 3s 267ms/step - loss: 1.1347 - acc: 0.6614 - val_loss: 0.8696 - val_acc: 0.6250\n",
      "Epoch 28/50\n",
      "11/11 [==============================] - 3s 262ms/step - loss: 1.0301 - acc: 0.6393 - val_loss: 0.5764 - val_acc: 0.7143\n",
      "Epoch 29/50\n",
      "11/11 [==============================] - 3s 264ms/step - loss: 1.1699 - acc: 0.5958 - val_loss: 0.6839 - val_acc: 0.7500\n",
      "Epoch 30/50\n",
      "11/11 [==============================] - 3s 266ms/step - loss: 0.9287 - acc: 0.6957 - val_loss: 0.6334 - val_acc: 0.7143\n",
      "Epoch 31/50\n",
      "11/11 [==============================] - 3s 269ms/step - loss: 0.9313 - acc: 0.6801 - val_loss: 0.6589 - val_acc: 0.7500\n",
      "Epoch 32/50\n",
      "11/11 [==============================] - 3s 263ms/step - loss: 0.9668 - acc: 0.6650 - val_loss: 0.6982 - val_acc: 0.7143\n",
      "Epoch 33/50\n",
      "11/11 [==============================] - 3s 275ms/step - loss: 0.8069 - acc: 0.7107 - val_loss: 0.5850 - val_acc: 0.8125\n",
      "Epoch 34/50\n",
      "11/11 [==============================] - 3s 288ms/step - loss: 0.7297 - acc: 0.7329 - val_loss: 0.4263 - val_acc: 0.7143\n",
      "Epoch 35/50\n",
      "11/11 [==============================] - 3s 270ms/step - loss: 0.7326 - acc: 0.7386 - val_loss: 0.5129 - val_acc: 0.7500\n",
      "Epoch 36/50\n",
      "11/11 [==============================] - 3s 266ms/step - loss: 0.6890 - acc: 0.7458 - val_loss: 1.3089 - val_acc: 0.5714\n",
      "Epoch 37/50\n",
      "11/11 [==============================] - 3s 268ms/step - loss: 0.6671 - acc: 0.7869 - val_loss: 0.5519 - val_acc: 0.7500\n",
      "Epoch 38/50\n",
      "11/11 [==============================] - 3s 271ms/step - loss: 0.7293 - acc: 0.7536 - val_loss: 0.5898 - val_acc: 0.7143\n",
      "Epoch 39/50\n",
      "11/11 [==============================] - 3s 275ms/step - loss: 0.6488 - acc: 0.7536 - val_loss: 0.4681 - val_acc: 0.8125\n",
      "Epoch 40/50\n",
      "11/11 [==============================] - 3s 293ms/step - loss: 0.7696 - acc: 0.7929 - val_loss: 0.6888 - val_acc: 0.7143\n",
      "Epoch 41/50\n",
      "11/11 [==============================] - 3s 277ms/step - loss: 0.7033 - acc: 0.7771 - val_loss: 0.4849 - val_acc: 0.7812\n",
      "Epoch 42/50\n",
      "11/11 [==============================] - 3s 270ms/step - loss: 0.4926 - acc: 0.8329 - val_loss: 0.2657 - val_acc: 0.8571\n",
      "Epoch 43/50\n",
      "11/11 [==============================] - 3s 267ms/step - loss: 0.5797 - acc: 0.7757 - val_loss: 0.5622 - val_acc: 0.8125\n",
      "Epoch 44/50\n",
      "11/11 [==============================] - 4s 322ms/step - loss: 0.5543 - acc: 0.8129 - val_loss: 0.2072 - val_acc: 0.8571\n",
      "Epoch 45/50\n",
      "11/11 [==============================] - 4s 400ms/step - loss: 0.4604 - acc: 0.8386 - val_loss: 0.5626 - val_acc: 0.8125\n",
      "Epoch 46/50\n",
      "11/11 [==============================] - 3s 314ms/step - loss: 0.5314 - acc: 0.8157 - val_loss: 0.5920 - val_acc: 0.7143\n",
      "Epoch 47/50\n",
      "11/11 [==============================] - 3s 276ms/step - loss: 0.4310 - acc: 0.8493 - val_loss: 0.3544 - val_acc: 0.8125\n",
      "Epoch 48/50\n",
      "11/11 [==============================] - 3s 287ms/step - loss: 0.4464 - acc: 0.8579 - val_loss: 0.0331 - val_acc: 1.0000\n",
      "Epoch 49/50\n",
      "11/11 [==============================] - 3s 281ms/step - loss: 0.3880 - acc: 0.8636 - val_loss: 0.3323 - val_acc: 0.8750\n",
      "Epoch 50/50\n",
      "11/11 [==============================] - 3s 307ms/step - loss: 0.4469 - acc: 0.8500 - val_loss: 0.0848 - val_acc: 1.0000\n"
     ]
    }
   ],
   "source": [
    "history = model.fit_generator(\n",
    "        train_generator,\n",
    "        steps_per_epoch=train_generator.samples // batch_size,\n",
    "        epochs=50,\n",
    "        validation_data=validation_generator,\n",
    "        validation_steps=validation_generator.samples // batch_size)"
   ]
  },
  {
   "cell_type": "code",
   "execution_count": 7,
   "metadata": {},
   "outputs": [
    {
     "data": {
      "image/png": "[encoded data removed]",
      "text/plain": [
       "<Figure size 432x288 with 1 Axes>"
      ]
     },
     "metadata": {
      "needs_background": "light"
     },
     "output_type": "display_data"
    },
    {
     "data": {
      "image/png": "[encoded data removed]",
      "text/plain": [
       "<Figure size 432x288 with 1 Axes>"
      ]
     },
     "metadata": {
      "needs_background": "light"
     },
     "output_type": "display_data"
    }
   ],
   "source": [
    "import matplotlib.pyplot as plt\n",
    "%matplotlib inline\n",
    "acc = history.history['acc']\n",
    "val_acc = history.history['val_acc']\n",
    "loss = history.history['loss']\n",
    "val_loss = history.history['val_loss']\n",
    "\n",
    "epochs = range(len(acc))\n",
    "\n",
    "plt.plot(epochs, acc, 'bo', label='Training acc')\n",
    "plt.plot(epochs, val_acc, 'b', label='Validation acc')\n",
    "plt.title('Training and validation accuracy')\n",
    "plt.legend()\n",
    "\n",
    "plt.figure()\n",
    "\n",
    "plt.plot(epochs, loss, 'bo', label='Training loss')\n",
    "plt.plot(epochs, val_loss, 'b', label='Validation loss')\n",
    "plt.title('Training and validation loss')\n",
    "plt.legend()\n",
    "\n",
    "plt.show()"
   ]
  },
  {
   "cell_type": "markdown",
   "metadata": {},
   "source": [
    "# infrence"
   ]
  },
  {
   "cell_type": "code",
   "execution_count": 8,
   "metadata": {},
   "outputs": [],
   "source": [
    "from keras.preprocessing import image"
   ]
  },
  {
   "cell_type": "code",
   "execution_count": 9,
   "metadata": {},
   "outputs": [
    {
     "name": "stdout",
     "output_type": "stream",
     "text": [
      "[3.6700971e-02 7.7572372e-03 8.3157562e-02 8.5508507e-01 1.0649939e-02\n",
      " 4.4613280e-03 1.8432270e-03 9.8935234e-06 4.3585874e-07 3.3431733e-04]\n",
      "3\n"
     ]
    }
   ],
   "source": [
    "img_path = 'test/1.png'\n",
    "img = image.load_img(img_path, target_size=(175, 75))\n",
    "x = image.img_to_array(img)\n",
    "x /= 255.\n",
    "x = np.expand_dims(x, axis=0)\n",
    "print(model.predict(x)[0])\n",
    "print(np.argmax(model.predict(x)[0]))\n",
    "# predicted_class = model_dict[str(model.predict_classes(x)[0])]"
   ]
  },
  {
   "cell_type": "code",
   "execution_count": 10,
   "metadata": {},
   "outputs": [],
   "source": [
    "iranshahr_dict = {\n",
    "    0 : 'آبادان',\n",
    "    1 : 'آباده',\n",
    "    2 : 'آبدان',\n",
    "    3 : 'آبرغان',\n",
    "    4 : 'آبرومند',\n",
    "    5 : 'آبریز',\n",
    "    6 : 'آبعلی',\n",
    "    7 : 'آبیز',\n",
    "    8 : 'آبیک',\n",
    "    9 : 'آذرشهر',\n",
    "}"
   ]
  },
  {
   "cell_type": "code",
   "execution_count": 13,
   "metadata": {},
   "outputs": [],
   "source": [
    "import os\n",
    "path = 'test/'\n",
    "k = 0\n",
    "for img in os.listdir(path):\n",
    "    k += 1\n",
    "    img2 = image.load_img(path + img, target_size=(175, 75))\n",
    "    x = image.img_to_array(img2)\n",
    "    x /= 255.\n",
    "    x = np.expand_dims(x, axis=0)\n",
    "#     print(model.predict(x)[0])\n",
    "#     print(np.argmax(model.predict(x)[0]))\n",
    "    os.rename(path+img, path+iranshahr_dict[np.argmax(model.predict(x)[0])] + '_' + str(k) + '.png')"
   ]
  },
  {
   "cell_type": "code",
   "execution_count": null,
   "metadata": {},
   "outputs": [],
   "source": []
  },
  {
   "cell_type": "code",
   "execution_count": null,
   "metadata": {},
   "outputs": [],
   "source": []
  }
 ],
 "metadata": {
  "kernelspec": {
   "display_name": "tensorflow",
   "language": "python",
   "name": "tensorflow"
  },
  "language_info": {
   "codemirror_mode": {
    "name": "ipython",
    "version": 3
   },
   "file_extension": ".py",
   "mimetype": "text/x-python",
   "name": "python",
   "nbconvert_exporter": "python",
   "pygments_lexer": "ipython3",
   "version": "3.6.8"
  }
 },
 "nbformat": 4,
 "nbformat_minor": 2
}
